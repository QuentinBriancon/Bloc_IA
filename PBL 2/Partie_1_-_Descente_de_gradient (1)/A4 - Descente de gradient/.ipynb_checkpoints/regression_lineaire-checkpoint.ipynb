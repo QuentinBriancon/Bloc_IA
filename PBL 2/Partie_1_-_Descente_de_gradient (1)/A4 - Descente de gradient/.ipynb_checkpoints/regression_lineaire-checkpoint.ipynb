{
 "cells": [
  {
   "cell_type": "markdown",
   "metadata": {},
   "source": [
    "# Régressions linéaires à l'aide de la descente de gradient"
   ]
  },
  {
   "cell_type": "markdown",
   "metadata": {},
   "source": [
    "On réutilise dans ce notebook les morceaux de code établis dans la partie 3 pour réaliser les régressions linéaires de cette partie. Ils devront être légèrement adaptés suite à quelques observations qui suivent. Nous avons vu que la descente de gradient multiple convient aussi pour deux variables, autant l'utiliser tout le temps."
   ]
  },
  {
   "cell_type": "markdown",
   "metadata": {},
   "source": [
    "Il y a quelques différences avec les descentes de gradients ci-dessous vis-à-vis des versions de la partie 3. Dans les paramètres, il y a désormais $A$, $X$ et $Y$, au lieu de $X$ précédemment :\n",
    "* $A$ concerne les coefficients de la droite des moindres carrés (notre ancien $X$);\n",
    "* $Y$ représente une donnée connue sous forme de vecteur que nous cherchons à exprimer en fonction d'autres données connues dans $X$ qui est sous forme d'une matrice.\n",
    "\n",
    "En fait $X$ et $Y$ vont faire partie du calcul qui détermine la fonction de régression linéaire, nos vrais paramètres sont bien dans $A$. On aurait pu donc faire le choix de mettre $X$ et $Y$ en variables globales."
   ]
  },
  {
   "cell_type": "code",
   "execution_count": 1,
   "metadata": {},
   "outputs": [],
   "source": [
    "import math \n",
    "import numpy as np\n",
    "import matplotlib.pyplot as plt\n",
    "from matplotlib import cm\n",
    "from mpl_toolkits.mplot3d import Axes3D\n",
    "from pylab import *\n",
    "import pandas as pd\n",
    "import os\n",
    "\n",
    "# norm of a vector U in R^n\n",
    "def norm(U):\n",
    "    n = len(U)\n",
    "    res = 0.0\n",
    "    for i in range(n):\n",
    "        res = res + U[i]**2\n",
    "    return sqrt(res)\n",
    "\n",
    "# algorithm looking for the minimum of a function f of n variables with gradient descent\n",
    "def GradientDescentMulti(f, gradf, A, X, Y, alpha=1e-2, eps=1e-6, maxIter=1000):\n",
    "    # gradf : gradient of f\n",
    "    # A : initial vector values choosen by the user\n",
    "    # alpha : learning rate (give the speed of the descent)\n",
    "    # eps : precision\n",
    "    # maxIter : maximum number of iterations\n",
    "    N = norm(gradf(A, X, Y))\n",
    "    i = 0\n",
    "    while N>eps:\n",
    "        A = A - alpha*gradf(A, X, Y)\n",
    "        N = norm(gradf(A, X, Y))\n",
    "        if i > maxIter:\n",
    "            print(\"Failure of gradient descent after\", maxIter, \"iterations\")\n",
    "            return None\n",
    "        i += 1\n",
    "    return A\n",
    "\n",
    "# algorithm computing an approximation of the gradient of f\n",
    "def MultiGradient(f, X, eps=1e-6):\n",
    "    n = len(X)\n",
    "    Grad = np.zeros(n)\n",
    "    for i in range(n):\n",
    "        Eps = np.zeros(n)\n",
    "        Eps[i] = eps\n",
    "        Grad[i] = ( f(X+Eps) - f(X-Eps) ) / (2*eps)\n",
    "    return Grad\n",
    "\n",
    "# Algorithm looking for the minimum of a function f of n variables with gradient descent, gradient unknown\n",
    "def GradientDescentMulti2(f, A, X, Y, alpha=1e-2, eps=1e-6, maxIter=1000):\n",
    "    # X : initial vector values choosen by the user\n",
    "    # alpha : learning rate (give the speed of the descent)\n",
    "    # eps : precision\n",
    "    # maxIter : maximum number of iterations\n",
    "    # disp : parameter to display steps of computations\n",
    "    N = 2*eps # just to start the loop\n",
    "    i=0\n",
    "    while N>eps:\n",
    "        gradf = MultiGradient(f, A, X, Y, eps)\n",
    "        N = norm(gradf)\n",
    "        A = A - alpha*gradf\n",
    "        if i > maxIter:\n",
    "            print(\"Failure of gradient descent after\", maxIter, \"iterations\")\n",
    "            return None\n",
    "        i += 1\n",
    "    return A\n"
   ]
  },
  {
   "cell_type": "markdown",
   "metadata": {},
   "source": [
    "La fonction suivante permet de télécharger des données à partir d'un fichier csv et de renvoyer un objet de type DataFrame dans la bibliothèque pandas de python, très commode à manipuler. On se référera à sa documentation sur le site suivant : [_documentation de pandas_](https://pandas.pydata.org/pandas-docs/stable/index.html)."
   ]
  },
  {
   "cell_type": "code",
   "execution_count": 2,
   "metadata": {},
   "outputs": [],
   "source": [
    "def load_data(name):\n",
    "    file_path = os.path.join(\"datasets\", name)\n",
    "    print(file_path)\n",
    "    return pd.read_csv(file_path)"
   ]
  },
  {
   "cell_type": "markdown",
   "metadata": {},
   "source": [
    "# Partie 4 - Régressions linéaires à l'aide de la descente de gradient"
   ]
  },
  {
   "cell_type": "markdown",
   "metadata": {},
   "source": [
    "## A - Régression linéaire simple"
   ]
  },
  {
   "cell_type": "markdown",
   "metadata": {},
   "source": [
    "Pour répondre à la question 4.2, voici les fonctions permettant de calculer la fonction de régression linéaire à deux variables et son gradient :"
   ]
  },
  {
   "cell_type": "code",
   "execution_count": 3,
   "metadata": {},
   "outputs": [],
   "source": [
    "# J(a,b)\n",
    "def twoVarLinearRegression(A, X, Y):\n",
    "    m = len(X)\n",
    "    res = 0.0\n",
    "    for i in range(m):\n",
    "        res = res + (A[0]*X[i] + A[1] - Y[i])**2\n",
    "    return res/m\n",
    "\n",
    "# grad J(a,b)\n",
    "def grad_twoVarLinearRegression(A, X, Y):\n",
    "    m = len(X)\n",
    "    grad = np.array([0.0, 0.0])\n",
    "    for i in range(m):\n",
    "        tmp = A[0]*X[i] + A[1] - Y[i]\n",
    "        grad[0] = grad[0] + X[i]*tmp\n",
    "        grad[1] = grad[1] + tmp\n",
    "    return 2.0/m * grad"
   ]
  },
  {
   "cell_type": "markdown",
   "metadata": {},
   "source": [
    "Remarque : on pourrait optimiser leurs calculs en regroupant certains calculs redondants mais ce n'est pas l'objet de notre étude."
   ]
  },
  {
   "cell_type": "markdown",
   "metadata": {},
   "source": [
    "### Application : concentration en ozone\n",
    "Toute cette partie illustre la question 4.3.\n",
    "\n",
    "Nous disposons des données quotidiennes dans le fichier *ozone.csv* de la concentration en ozone en fonction de divers paramètres dont les températures à 9h, 12h et 15h notées respectivement T9, T12 et T15. En voici l'aperçu :"
   ]
  },
  {
   "cell_type": "code",
   "execution_count": 4,
   "metadata": {},
   "outputs": [
    {
     "name": "stdout",
     "output_type": "stream",
     "text": [
      "datasets\\ozone.csv\n"
     ]
    },
    {
     "data": {
      "text/html": [
       "<div>\n",
       "<style scoped>\n",
       "    .dataframe tbody tr th:only-of-type {\n",
       "        vertical-align: middle;\n",
       "    }\n",
       "\n",
       "    .dataframe tbody tr th {\n",
       "        vertical-align: top;\n",
       "    }\n",
       "\n",
       "    .dataframe thead th {\n",
       "        text-align: right;\n",
       "    }\n",
       "</style>\n",
       "<table border=\"1\" class=\"dataframe\">\n",
       "  <thead>\n",
       "    <tr style=\"text-align: right;\">\n",
       "      <th></th>\n",
       "      <th>maxO3</th>\n",
       "      <th>T9</th>\n",
       "      <th>T12</th>\n",
       "      <th>T15</th>\n",
       "      <th>Ne9</th>\n",
       "      <th>Ne12</th>\n",
       "      <th>Ne15</th>\n",
       "      <th>Vx9</th>\n",
       "      <th>Vx12</th>\n",
       "      <th>Vx15</th>\n",
       "      <th>maxO3v</th>\n",
       "      <th>vent</th>\n",
       "      <th>pluie</th>\n",
       "    </tr>\n",
       "  </thead>\n",
       "  <tbody>\n",
       "    <tr>\n",
       "      <th>20010601</th>\n",
       "      <td>87</td>\n",
       "      <td>15.6</td>\n",
       "      <td>18.5</td>\n",
       "      <td>18.4</td>\n",
       "      <td>4</td>\n",
       "      <td>4</td>\n",
       "      <td>8</td>\n",
       "      <td>0.6946</td>\n",
       "      <td>-1.7101</td>\n",
       "      <td>-0.6946</td>\n",
       "      <td>84</td>\n",
       "      <td>Nord</td>\n",
       "      <td>Sec</td>\n",
       "    </tr>\n",
       "    <tr>\n",
       "      <th>20010602</th>\n",
       "      <td>82</td>\n",
       "      <td>17.0</td>\n",
       "      <td>18.4</td>\n",
       "      <td>17.7</td>\n",
       "      <td>5</td>\n",
       "      <td>5</td>\n",
       "      <td>7</td>\n",
       "      <td>-4.3301</td>\n",
       "      <td>-4.0000</td>\n",
       "      <td>-3.0000</td>\n",
       "      <td>87</td>\n",
       "      <td>Nord</td>\n",
       "      <td>Sec</td>\n",
       "    </tr>\n",
       "    <tr>\n",
       "      <th>20010603</th>\n",
       "      <td>92</td>\n",
       "      <td>15.3</td>\n",
       "      <td>17.6</td>\n",
       "      <td>19.5</td>\n",
       "      <td>2</td>\n",
       "      <td>5</td>\n",
       "      <td>4</td>\n",
       "      <td>2.9544</td>\n",
       "      <td>1.8794</td>\n",
       "      <td>0.5209</td>\n",
       "      <td>82</td>\n",
       "      <td>Est</td>\n",
       "      <td>Sec</td>\n",
       "    </tr>\n",
       "    <tr>\n",
       "      <th>20010604</th>\n",
       "      <td>114</td>\n",
       "      <td>16.2</td>\n",
       "      <td>19.7</td>\n",
       "      <td>22.5</td>\n",
       "      <td>1</td>\n",
       "      <td>1</td>\n",
       "      <td>0</td>\n",
       "      <td>0.9848</td>\n",
       "      <td>0.3473</td>\n",
       "      <td>-0.1736</td>\n",
       "      <td>92</td>\n",
       "      <td>Nord</td>\n",
       "      <td>Sec</td>\n",
       "    </tr>\n",
       "    <tr>\n",
       "      <th>20010605</th>\n",
       "      <td>94</td>\n",
       "      <td>17.4</td>\n",
       "      <td>20.5</td>\n",
       "      <td>20.4</td>\n",
       "      <td>8</td>\n",
       "      <td>8</td>\n",
       "      <td>7</td>\n",
       "      <td>-0.5000</td>\n",
       "      <td>-2.9544</td>\n",
       "      <td>-4.3301</td>\n",
       "      <td>114</td>\n",
       "      <td>Ouest</td>\n",
       "      <td>Sec</td>\n",
       "    </tr>\n",
       "  </tbody>\n",
       "</table>\n",
       "</div>"
      ],
      "text/plain": [
       "          maxO3    T9   T12   T15  Ne9  Ne12  Ne15     Vx9    Vx12    Vx15  \\\n",
       "20010601     87  15.6  18.5  18.4    4     4     8  0.6946 -1.7101 -0.6946   \n",
       "20010602     82  17.0  18.4  17.7    5     5     7 -4.3301 -4.0000 -3.0000   \n",
       "20010603     92  15.3  17.6  19.5    2     5     4  2.9544  1.8794  0.5209   \n",
       "20010604    114  16.2  19.7  22.5    1     1     0  0.9848  0.3473 -0.1736   \n",
       "20010605     94  17.4  20.5  20.4    8     8     7 -0.5000 -2.9544 -4.3301   \n",
       "\n",
       "          maxO3v   vent pluie  \n",
       "20010601      84   Nord   Sec  \n",
       "20010602      87   Nord   Sec  \n",
       "20010603      82    Est   Sec  \n",
       "20010604      92   Nord   Sec  \n",
       "20010605     114  Ouest   Sec  "
      ]
     },
     "execution_count": 4,
     "metadata": {},
     "output_type": "execute_result"
    }
   ],
   "source": [
    "# chargement des données dans l'objet DataFrame ozone et affichage des premières lignes\n",
    "ozone = load_data(\"ozone.csv\")\n",
    "ozone.head()"
   ]
  },
  {
   "cell_type": "markdown",
   "metadata": {},
   "source": [
    "On peut également avoir un aperçu de nos données pour savoir à peu prêt quoi rechercher avec la méthode *describe()* qui réalise une étude statistique rapide sur l'objet de type DataFrame, et aussi regarder si les données sont simplement corrélées entre elles avec la méthode *corr()*. On regardera plus en détail ce qu'il se passe por *maxO3*."
   ]
  },
  {
   "cell_type": "code",
   "execution_count": 5,
   "metadata": {},
   "outputs": [
    {
     "data": {
      "text/html": [
       "<div>\n",
       "<style scoped>\n",
       "    .dataframe tbody tr th:only-of-type {\n",
       "        vertical-align: middle;\n",
       "    }\n",
       "\n",
       "    .dataframe tbody tr th {\n",
       "        vertical-align: top;\n",
       "    }\n",
       "\n",
       "    .dataframe thead th {\n",
       "        text-align: right;\n",
       "    }\n",
       "</style>\n",
       "<table border=\"1\" class=\"dataframe\">\n",
       "  <thead>\n",
       "    <tr style=\"text-align: right;\">\n",
       "      <th></th>\n",
       "      <th>maxO3</th>\n",
       "      <th>T9</th>\n",
       "      <th>T12</th>\n",
       "      <th>T15</th>\n",
       "      <th>Ne9</th>\n",
       "      <th>Ne12</th>\n",
       "      <th>Ne15</th>\n",
       "      <th>Vx9</th>\n",
       "      <th>Vx12</th>\n",
       "      <th>Vx15</th>\n",
       "      <th>maxO3v</th>\n",
       "    </tr>\n",
       "  </thead>\n",
       "  <tbody>\n",
       "    <tr>\n",
       "      <th>count</th>\n",
       "      <td>112.000000</td>\n",
       "      <td>112.000000</td>\n",
       "      <td>112.000000</td>\n",
       "      <td>112.000000</td>\n",
       "      <td>112.000000</td>\n",
       "      <td>112.000000</td>\n",
       "      <td>112.000000</td>\n",
       "      <td>112.000000</td>\n",
       "      <td>112.000000</td>\n",
       "      <td>112.000000</td>\n",
       "      <td>112.000000</td>\n",
       "    </tr>\n",
       "    <tr>\n",
       "      <th>mean</th>\n",
       "      <td>90.303571</td>\n",
       "      <td>18.360714</td>\n",
       "      <td>21.526786</td>\n",
       "      <td>22.627679</td>\n",
       "      <td>4.928571</td>\n",
       "      <td>5.017857</td>\n",
       "      <td>4.830357</td>\n",
       "      <td>-1.214346</td>\n",
       "      <td>-1.611004</td>\n",
       "      <td>-1.690683</td>\n",
       "      <td>90.571429</td>\n",
       "    </tr>\n",
       "    <tr>\n",
       "      <th>std</th>\n",
       "      <td>28.187225</td>\n",
       "      <td>3.122726</td>\n",
       "      <td>4.042321</td>\n",
       "      <td>4.530859</td>\n",
       "      <td>2.594916</td>\n",
       "      <td>2.281860</td>\n",
       "      <td>2.332259</td>\n",
       "      <td>2.632742</td>\n",
       "      <td>2.795673</td>\n",
       "      <td>2.810198</td>\n",
       "      <td>28.276853</td>\n",
       "    </tr>\n",
       "    <tr>\n",
       "      <th>min</th>\n",
       "      <td>42.000000</td>\n",
       "      <td>11.300000</td>\n",
       "      <td>14.000000</td>\n",
       "      <td>14.900000</td>\n",
       "      <td>0.000000</td>\n",
       "      <td>0.000000</td>\n",
       "      <td>0.000000</td>\n",
       "      <td>-7.878500</td>\n",
       "      <td>-7.878500</td>\n",
       "      <td>-9.000000</td>\n",
       "      <td>42.000000</td>\n",
       "    </tr>\n",
       "    <tr>\n",
       "      <th>25%</th>\n",
       "      <td>70.750000</td>\n",
       "      <td>16.200000</td>\n",
       "      <td>18.600000</td>\n",
       "      <td>19.275000</td>\n",
       "      <td>3.000000</td>\n",
       "      <td>4.000000</td>\n",
       "      <td>3.000000</td>\n",
       "      <td>-3.276450</td>\n",
       "      <td>-3.564700</td>\n",
       "      <td>-3.939200</td>\n",
       "      <td>71.000000</td>\n",
       "    </tr>\n",
       "    <tr>\n",
       "      <th>50%</th>\n",
       "      <td>81.500000</td>\n",
       "      <td>17.800000</td>\n",
       "      <td>20.550000</td>\n",
       "      <td>22.050000</td>\n",
       "      <td>6.000000</td>\n",
       "      <td>5.000000</td>\n",
       "      <td>5.000000</td>\n",
       "      <td>-0.866000</td>\n",
       "      <td>-1.879400</td>\n",
       "      <td>-1.549650</td>\n",
       "      <td>82.500000</td>\n",
       "    </tr>\n",
       "    <tr>\n",
       "      <th>75%</th>\n",
       "      <td>106.000000</td>\n",
       "      <td>19.925000</td>\n",
       "      <td>23.550000</td>\n",
       "      <td>25.400000</td>\n",
       "      <td>7.000000</td>\n",
       "      <td>7.000000</td>\n",
       "      <td>7.000000</td>\n",
       "      <td>0.694600</td>\n",
       "      <td>0.000000</td>\n",
       "      <td>0.000000</td>\n",
       "      <td>106.000000</td>\n",
       "    </tr>\n",
       "    <tr>\n",
       "      <th>max</th>\n",
       "      <td>166.000000</td>\n",
       "      <td>27.000000</td>\n",
       "      <td>33.500000</td>\n",
       "      <td>35.500000</td>\n",
       "      <td>8.000000</td>\n",
       "      <td>8.000000</td>\n",
       "      <td>8.000000</td>\n",
       "      <td>5.196200</td>\n",
       "      <td>6.577800</td>\n",
       "      <td>5.000000</td>\n",
       "      <td>166.000000</td>\n",
       "    </tr>\n",
       "  </tbody>\n",
       "</table>\n",
       "</div>"
      ],
      "text/plain": [
       "            maxO3          T9         T12         T15         Ne9        Ne12  \\\n",
       "count  112.000000  112.000000  112.000000  112.000000  112.000000  112.000000   \n",
       "mean    90.303571   18.360714   21.526786   22.627679    4.928571    5.017857   \n",
       "std     28.187225    3.122726    4.042321    4.530859    2.594916    2.281860   \n",
       "min     42.000000   11.300000   14.000000   14.900000    0.000000    0.000000   \n",
       "25%     70.750000   16.200000   18.600000   19.275000    3.000000    4.000000   \n",
       "50%     81.500000   17.800000   20.550000   22.050000    6.000000    5.000000   \n",
       "75%    106.000000   19.925000   23.550000   25.400000    7.000000    7.000000   \n",
       "max    166.000000   27.000000   33.500000   35.500000    8.000000    8.000000   \n",
       "\n",
       "             Ne15         Vx9        Vx12        Vx15      maxO3v  \n",
       "count  112.000000  112.000000  112.000000  112.000000  112.000000  \n",
       "mean     4.830357   -1.214346   -1.611004   -1.690683   90.571429  \n",
       "std      2.332259    2.632742    2.795673    2.810198   28.276853  \n",
       "min      0.000000   -7.878500   -7.878500   -9.000000   42.000000  \n",
       "25%      3.000000   -3.276450   -3.564700   -3.939200   71.000000  \n",
       "50%      5.000000   -0.866000   -1.879400   -1.549650   82.500000  \n",
       "75%      7.000000    0.694600    0.000000    0.000000  106.000000  \n",
       "max      8.000000    5.196200    6.577800    5.000000  166.000000  "
      ]
     },
     "execution_count": 5,
     "metadata": {},
     "output_type": "execute_result"
    }
   ],
   "source": [
    "# quelques statistiques sur les colonnes à partir du DataFrame ozone\n",
    "ozone.describe()"
   ]
  },
  {
   "cell_type": "code",
   "execution_count": 6,
   "metadata": {},
   "outputs": [
    {
     "data": {
      "text/plain": [
       "maxO3     1.000000\n",
       "T9        0.699387\n",
       "T12       0.784262\n",
       "T15       0.774570\n",
       "Ne9      -0.621704\n",
       "Ne12     -0.640751\n",
       "Ne15     -0.478302\n",
       "Vx9       0.527623\n",
       "Vx12      0.430796\n",
       "Vx15      0.391899\n",
       "maxO3v    0.684516\n",
       "Name: maxO3, dtype: float64"
      ]
     },
     "execution_count": 6,
     "metadata": {},
     "output_type": "execute_result"
    }
   ],
   "source": [
    "# calcul de la matrice de corrélation du DataFrame ozone et affichage de corrélations avec maxO3\n",
    "correlation_matrix = ozone.corr()\n",
    "correlation_matrix[\"maxO3\"]"
   ]
  },
  {
   "cell_type": "markdown",
   "metadata": {},
   "source": [
    "La température à midi a un coefficient de corrélation relativement correct pour la concentration maximale d'ozone, ce qui induit qu'une régression linéaire simple peut avoir du sens."
   ]
  },
  {
   "cell_type": "markdown",
   "metadata": {},
   "source": [
    "Représentons *maxO3* en fonction de *T12* via un nuage de points."
   ]
  },
  {
   "cell_type": "code",
   "execution_count": 7,
   "metadata": {},
   "outputs": [
    {
     "data": {
      "image/png": "[encoded data removed]",
      "text/plain": [
       "<Figure size 432x288 with 1 Axes>"
      ]
     },
     "metadata": {
      "needs_background": "light"
     },
     "output_type": "display_data"
    }
   ],
   "source": [
    "graph = ozone.plot(kind=\"scatter\", x=\"T12\", y=\"maxO3\", title=\"Comparison between ozone concentration and temperature at 12:00\")"
   ]
  },
  {
   "cell_type": "markdown",
   "metadata": {},
   "source": [
    "On souhaite déterminer grâce à la descente de gradient la droite des moindres carrés (RMSE) de la forme $y=ax+b$, où $y$ représente *maxO3* et $x$ représente *T12*. Il faut donc initialiser les coefficients $a$ et $b$ pour démarrer l'algorithme. Plutôt que de prendre n'importe quoi et épargner à notre programme du temps calculs en prenant un point $A=(a;b)$ trop éloigné de minimum de RMSE, vu qu'on a un graphique, autant l'utiliser et déterminer \"à vue\" des coefficients qui paraissent cohérents. Souvenez-vous en effet que le point d'initialisation peut impacter vos calculs."
   ]
  },
  {
   "cell_type": "markdown",
   "metadata": {},
   "source": [
    "En observant le nuage de point seul, j'estime grossièrement que $y = 3x -35$ semble aller (vous pourriez estimer autre chose bien entendu). J'utiliserai donc par la suite l'initialisation $A=(3;-35)$. Construisons la droite $y=3x-35$ et ajoutons-là au nuage de points."
   ]
  },
  {
   "cell_type": "code",
   "execution_count": 8,
   "metadata": {},
   "outputs": [
    {
     "data": {
      "text/plain": [
       "<AxesSubplot:title={'center':'Comparison between ozone concentration and temperature at 12:00'}, xlabel='T12', ylabel='maxO3'>"
      ]
     },
     "execution_count": 8,
     "metadata": {},
     "output_type": "execute_result"
    },
    {
     "data": {
      "image/png": "[encoded data removed]",
      "text/plain": [
       "<Figure size 432x288 with 1 Axes>"
      ]
     },
     "metadata": {
      "needs_background": "light"
     },
     "output_type": "display_data"
    }
   ],
   "source": [
    "X = np.linspace(10.0,40.0,59)\n",
    "Y1 = 3*X - 35\n",
    "df = pd.DataFrame({'initial estimation': Y1}, index=X)\n",
    "graph = ozone.plot(kind=\"scatter\", x=\"T12\", y=\"maxO3\", title=\"Comparison between ozone concentration and temperature at 12:00\")\n",
    "df.plot(kind=\"line\", ax=graph, color={\"initial estimation\": \"pink\"})"
   ]
  },
  {
   "cell_type": "markdown",
   "metadata": {},
   "source": [
    "Bon, j'ai tapé un peu à côté mais en ne regardant pas le graphique, j'aurai pu faire pire comme point d'initialisation. Je pourrai reprendre un point $A$ plus précis (traversant le nuage de point) cependant je me contenterai de ce $A$ pour la suite. Mais je ne doute pas que vous auriez fait mieux que moi ! ;-)"
   ]
  },
  {
   "cell_type": "markdown",
   "metadata": {},
   "source": [
    "On a besoin pour $Y = $ *maxO3* et $X = $ *T12* qu'ils soient de type *array* vu la façon dont sont codés nos fonctions. Les deux lignes suivantes créent *maxO3* et *T12* comme *arrays* à partir d'objet de type *pandas.Series* que sont *ozone[\"maxO3\"]* et *ozone[\"T12\"]*."
   ]
  },
  {
   "cell_type": "code",
   "execution_count": 9,
   "metadata": {},
   "outputs": [],
   "source": [
    "maxO3 = ozone[\"maxO3\"].array\n",
    "T12 = ozone[\"T12\"].array"
   ]
  },
  {
   "cell_type": "markdown",
   "metadata": {},
   "source": [
    "Réalisons la descente de gradient pour trouver RMSE :"
   ]
  },
  {
   "cell_type": "code",
   "execution_count": 10,
   "metadata": {},
   "outputs": [
    {
     "name": "stderr",
     "output_type": "stream",
     "text": [
      "<ipython-input-1-d2da417a2536>:15: RuntimeWarning: overflow encountered in double_scalars\n",
      "  res = res + U[i]**2\n",
      "<ipython-input-1-d2da417a2536>:28: RuntimeWarning: invalid value encountered in subtract\n",
      "  A = A - alpha*gradf(A, X, Y)\n"
     ]
    },
    {
     "data": {
      "text/plain": [
       "array([nan, inf])"
      ]
     },
     "execution_count": 10,
     "metadata": {},
     "output_type": "execute_result"
    }
   ],
   "source": [
    "A = np.array([3.,35.])\n",
    "GradientDescentMulti(twoVarLinearRegression, grad_twoVarLinearRegression, A, T12, maxO3, alpha=1e-2, eps=1e-3, maxIter=100000)"
   ]
  },
  {
   "cell_type": "markdown",
   "metadata": {},
   "source": [
    "Là, typiquement, ça fait mal. On obtient un array contenant \"not a number\" et \"infini\". Dure est la vie du programmeur. Quoique !\n",
    "\n",
    "Il faut investiguer sur les raisons qui nous font aboutir à cela. Quelques causes possibles vis-à-vis de ce qu'on a déjà répertoriées et des warnings ci-dessus :\n",
    "* un taux d'apprentissage inadapté\n",
    "* précision trop fine\n",
    "* données avec de grands nombres\n",
    "* somme de termes n'apportant pas davantage d'informations\n",
    "\n",
    "Là en l'occurrence, en affichant la norme, on se rend compte qu'elle croit très vite vers un dépassement (avec nos paramètres). Au final, avons-nous besoin de calculer la norme ? Pas vraiment. On a simplement besoin de savoir si on dépasse $\\varepsilon$ lors de son calcul. Autant arrêter de la calculer dès dépassement de $\\varepsilon$. Dans ce sens, on remplace *norm* par *pseudo_norm*.\n",
    "\n",
    "En affichant les valeurs de $A$ et de son gradient, on observe aussi que la précision est trop forte et peu adaptées à la taille de nos données (entre 1 et 100), on testera avec une précision à $\\varepsilon=1$.\n",
    "\n",
    "Voici donc les fonctions modifiées (vigilance si vous relancez partiellement ce notebook ultérieurement) :"
   ]
  },
  {
   "cell_type": "code",
   "execution_count": 11,
   "metadata": {},
   "outputs": [],
   "source": [
    "# computes the norm of a vector U in R^n if it is smaller than eps, else give a result higher than eps\n",
    "def pseudo_norm(U, eps):\n",
    "    n = len(U)\n",
    "    res = 0.0\n",
    "    for i in range(n):\n",
    "        res = res + U[i]**2\n",
    "        # for high norms, res can be huge, if sufficiently huge, stop the computation\n",
    "        if res>eps*eps:\n",
    "            return eps+1\n",
    "    return sqrt(res)\n",
    "\n",
    "# Algorithm looking for the minimum of a function f of n variables with gradient descent\n",
    "def GradientDescentMulti(f, gradf, A, X, Y, alpha=1e-2, eps=1e-6, maxIter=1000):\n",
    "    # gradf : gradient of f\n",
    "    # X : initial vector values choosen by the user\n",
    "    # alpha : learning rate (give the speed of the descent)\n",
    "    # eps : precision\n",
    "    # maxIter : maximum number of iterations\n",
    "    N = pseudo_norm(gradf(A, X, Y), eps)\n",
    "    i = 0\n",
    "    while N>eps:\n",
    "        A = A - alpha*gradf(A, X, Y)\n",
    "        # print(A)\n",
    "        N = pseudo_norm(gradf(A, X, Y), eps)\n",
    "        if i > maxIter:\n",
    "            print(\"Failure of gradient descent after\", maxIter, \"iterations\")\n",
    "            return None\n",
    "        i += 1\n",
    "    return A\n",
    "\n",
    "# Algorithm computing an approximation of the gradient of f\n",
    "def MultiGradient(f, X, eps=1e-6):\n",
    "    n = len(X)\n",
    "    Grad = np.zeros(n)\n",
    "    for i in range(n):\n",
    "        Eps = np.zeros(n)\n",
    "        Eps[i] = eps\n",
    "        Grad[i] = ( f(X+Eps) - f(X-Eps) ) / (2*eps)\n",
    "    return Grad\n",
    "\n",
    "# Algorithm looking for the minimum of a function f of n variables with gradient descent, gradient unknown\n",
    "def GradientDescentMulti2(f, A, X, Y, alpha=1e-2, eps=1e-6, maxIter=1000):\n",
    "    # X : initial vector values choosen by the user\n",
    "    # alpha : learning rate (give the speed of the descent)\n",
    "    # eps : precision\n",
    "    # maxIter : maximum number of iterations\n",
    "    # disp : parameter to display steps of computations\n",
    "    N = eps+1 # just to start the loop\n",
    "    i=0\n",
    "    while N>eps:\n",
    "        gradf = MultiGradient(f, A, X, Y, eps)\n",
    "        N = pseudo_norm(gradf, eps)\n",
    "        A = A - alpha*gradf\n",
    "        if i > maxIter:\n",
    "            print(\"Failure of gradient descent after\", maxIter, \"iterations\")\n",
    "            return None\n",
    "        i += 1\n",
    "    return A\n"
   ]
  },
  {
   "cell_type": "raw",
   "metadata": {},
   "source": [
    "Retentons la descente de gradient pour trouver RMSE : (ça prend un peu de temps de calcul, soyez patients)"
   ]
  },
  {
   "cell_type": "code",
   "execution_count": 12,
   "metadata": {},
   "outputs": [
    {
     "data": {
      "text/plain": [
       "array([  4.80333782, -12.59735788])"
      ]
     },
     "execution_count": 12,
     "metadata": {},
     "output_type": "execute_result"
    }
   ],
   "source": [
    "A = np.array([3.,35.])\n",
    "GradientDescentMulti(twoVarLinearRegression, grad_twoVarLinearRegression, A, T12, maxO3, alpha=1e-3, eps=1, maxIter=100000)"
   ]
  },
  {
   "cell_type": "markdown",
   "metadata": {},
   "source": [
    "Maintenant que nous avons trouvé des coefficients $A$, la RMSE a approximativement pour équation $y = 4.8x -12.6$, que nous allons représenter via *Y2* sur notre nuage de points."
   ]
  },
  {
   "cell_type": "code",
   "execution_count": 13,
   "metadata": {},
   "outputs": [
    {
     "data": {
      "text/plain": [
       "<AxesSubplot:title={'center':'Comparison between ozone concentration and temperature at 12:00'}, xlabel='T12', ylabel='maxO3'>"
      ]
     },
     "execution_count": 13,
     "metadata": {},
     "output_type": "execute_result"
    },
    {
     "data": {
      "image/png": "[encoded data removed]",
      "text/plain": [
       "<Figure size 432x288 with 1 Axes>"
      ]
     },
     "metadata": {
      "needs_background": "light"
     },
     "output_type": "display_data"
    }
   ],
   "source": [
    "X = np.linspace(10.0,40.0,59)\n",
    "Y1 = 3*X - 35\n",
    "Y2 = 4.8*X - 12.6\n",
    "df = pd.DataFrame({'initial estimation': Y1, 'RMSE': Y2}, index=X)\n",
    "graph = ozone.plot(kind=\"scatter\", x=\"T12\", y=\"maxO3\", title=\"Comparison between ozone concentration and temperature at 12:00\")\n",
    "df.plot(kind=\"line\", ax=graph, color={\"initial estimation\": \"pink\", \"RMSE\": \"green\"})"
   ]
  },
  {
   "cell_type": "markdown",
   "metadata": {},
   "source": [
    "Estimer la valeur de *maxO3* en $\\mu g.m^{-3}$ pour une température de 40°C."
   ]
  },
  {
   "cell_type": "code",
   "execution_count": 14,
   "metadata": {},
   "outputs": [
    {
     "data": {
      "text/plain": [
       "179.4"
      ]
     },
     "execution_count": 14,
     "metadata": {},
     "output_type": "execute_result"
    }
   ],
   "source": [
    "4.8*40-12.6"
   ]
  },
  {
   "cell_type": "markdown",
   "metadata": {},
   "source": [
    "### Premiers constats\n",
    "On peut remarquer que les quelques calculs sur une centaine de données peuvent déjà prendre un peu de temps (quelques secondes). Bien entendu, des optimisations sont possibles, et les bibliothèques que vous manipulerez seront plus optimales que les algorithmes pédagogiques que vous voyez ici. Il faut donc déjà constater qu'il est important de :\n",
    "* **Préparer les données :** les transformer avant traitement peut limiter des problèmes et standardiser vos fonctions (centrer, normer, peut éviter des dépassements mémoire) pourra limiter des problèmes lors de vos recherches ;\n",
    "* **Echantillonner :** je ne l'ai pas fait (et c'est mal !) mais j'aurai pu trouver à peu près la même RMSE avec un échantillon de données qui aurait permis appprentissage. En prenant toutes les données, il n'y a pas d'apprentissage, et même risque d'avoir une mauvaise RMSE aboutissant à de mauvaises prédictions. Par exemple, le cas où deux données sont identiques sauf pour un critère où pour l'une c'est oui et l'autre non. Echantillonner, c'est important (et ça limite le volume de calcul aussi) ;\n",
    "* **Analyser les calculs :** regardez ce que donnent vos calculs quitte à ajouter des commentaires dans vos fonctions pour en voir le comportement pour ajuster vos paramètres\n",
    "* **Expérimenter :** quelques idées pour tester rapidement peuvent émerger, réaliser des boucles de tests où chaque boucle modifie un paramètre et pourquoi pas intelligemment en s'adaptant si la boucle précédente était peu fructueuse ?\n"
   ]
  },
  {
   "cell_type": "markdown",
   "metadata": {},
   "source": [
    "## B - Régression linéaire multiple"
   ]
  },
  {
   "cell_type": "code",
   "execution_count": null,
   "metadata": {},
   "outputs": [],
   "source": []
  },
  {
   "cell_type": "markdown",
   "metadata": {},
   "source": [
    "### Application : attaques cardiaques"
   ]
  },
  {
   "cell_type": "code",
   "execution_count": 21,
   "metadata": {},
   "outputs": [
    {
     "name": "stdout",
     "output_type": "stream",
     "text": [
      "datasets\\attaques_cardiaques.csv\n"
     ]
    },
    {
     "data": {
      "text/html": [
       "<div>\n",
       "<style scoped>\n",
       "    .dataframe tbody tr th:only-of-type {\n",
       "        vertical-align: middle;\n",
       "    }\n",
       "\n",
       "    .dataframe tbody tr th {\n",
       "        vertical-align: top;\n",
       "    }\n",
       "\n",
       "    .dataframe thead th {\n",
       "        text-align: right;\n",
       "    }\n",
       "</style>\n",
       "<table border=\"1\" class=\"dataframe\">\n",
       "  <thead>\n",
       "    <tr style=\"text-align: right;\">\n",
       "      <th></th>\n",
       "      <th>Pays</th>\n",
       "      <th>X1</th>\n",
       "      <th>X2</th>\n",
       "      <th>X3</th>\n",
       "      <th>Y</th>\n",
       "    </tr>\n",
       "  </thead>\n",
       "  <tbody>\n",
       "    <tr>\n",
       "      <th>0</th>\n",
       "      <td>Australie</td>\n",
       "      <td>124</td>\n",
       "      <td>33</td>\n",
       "      <td>8</td>\n",
       "      <td>81</td>\n",
       "    </tr>\n",
       "    <tr>\n",
       "      <th>1</th>\n",
       "      <td>Autriche</td>\n",
       "      <td>49</td>\n",
       "      <td>31</td>\n",
       "      <td>6</td>\n",
       "      <td>55</td>\n",
       "    </tr>\n",
       "    <tr>\n",
       "      <th>2</th>\n",
       "      <td>Canada</td>\n",
       "      <td>181</td>\n",
       "      <td>38</td>\n",
       "      <td>8</td>\n",
       "      <td>80</td>\n",
       "    </tr>\n",
       "    <tr>\n",
       "      <th>3</th>\n",
       "      <td>Ceylan</td>\n",
       "      <td>4</td>\n",
       "      <td>17</td>\n",
       "      <td>2</td>\n",
       "      <td>24</td>\n",
       "    </tr>\n",
       "    <tr>\n",
       "      <th>4</th>\n",
       "      <td>Chili</td>\n",
       "      <td>22</td>\n",
       "      <td>20</td>\n",
       "      <td>4</td>\n",
       "      <td>78</td>\n",
       "    </tr>\n",
       "  </tbody>\n",
       "</table>\n",
       "</div>"
      ],
      "text/plain": [
       "        Pays   X1  X2  X3   Y\n",
       "0  Australie  124  33   8  81\n",
       "1   Autriche   49  31   6  55\n",
       "2     Canada  181  38   8  80\n",
       "3     Ceylan    4  17   2  24\n",
       "4      Chili   22  20   4  78"
      ]
     },
     "execution_count": 21,
     "metadata": {},
     "output_type": "execute_result"
    }
   ],
   "source": [
    "# chargement des données dans l'objet DataFrame heart_attacks et affichage des premières lignes\n",
    "heart_attacks = load_data(\"attaques_cardiaques.csv\")\n",
    "heart_attacks.head()"
   ]
  },
  {
   "cell_type": "code",
   "execution_count": 23,
   "metadata": {},
   "outputs": [
    {
     "data": {
      "text/html": [
       "<div>\n",
       "<style scoped>\n",
       "    .dataframe tbody tr th:only-of-type {\n",
       "        vertical-align: middle;\n",
       "    }\n",
       "\n",
       "    .dataframe tbody tr th {\n",
       "        vertical-align: top;\n",
       "    }\n",
       "\n",
       "    .dataframe thead th {\n",
       "        text-align: right;\n",
       "    }\n",
       "</style>\n",
       "<table border=\"1\" class=\"dataframe\">\n",
       "  <thead>\n",
       "    <tr style=\"text-align: right;\">\n",
       "      <th></th>\n",
       "      <th>X1</th>\n",
       "      <th>X2</th>\n",
       "      <th>X3</th>\n",
       "      <th>Y</th>\n",
       "    </tr>\n",
       "  </thead>\n",
       "  <tbody>\n",
       "    <tr>\n",
       "      <th>count</th>\n",
       "      <td>22.000000</td>\n",
       "      <td>22.000000</td>\n",
       "      <td>22.000000</td>\n",
       "      <td>22.000000</td>\n",
       "    </tr>\n",
       "    <tr>\n",
       "      <th>mean</th>\n",
       "      <td>82.545455</td>\n",
       "      <td>30.318182</td>\n",
       "      <td>5.636364</td>\n",
       "      <td>56.727273</td>\n",
       "    </tr>\n",
       "    <tr>\n",
       "      <th>std</th>\n",
       "      <td>76.458970</td>\n",
       "      <td>8.687081</td>\n",
       "      <td>1.865615</td>\n",
       "      <td>19.307491</td>\n",
       "    </tr>\n",
       "    <tr>\n",
       "      <th>min</th>\n",
       "      <td>4.000000</td>\n",
       "      <td>8.000000</td>\n",
       "      <td>2.000000</td>\n",
       "      <td>24.000000</td>\n",
       "    </tr>\n",
       "    <tr>\n",
       "      <th>25%</th>\n",
       "      <td>18.250000</td>\n",
       "      <td>23.500000</td>\n",
       "      <td>4.000000</td>\n",
       "      <td>43.500000</td>\n",
       "    </tr>\n",
       "    <tr>\n",
       "      <th>50%</th>\n",
       "      <td>51.500000</td>\n",
       "      <td>32.000000</td>\n",
       "      <td>6.000000</td>\n",
       "      <td>52.000000</td>\n",
       "    </tr>\n",
       "    <tr>\n",
       "      <th>75%</th>\n",
       "      <td>145.000000</td>\n",
       "      <td>38.000000</td>\n",
       "      <td>7.000000</td>\n",
       "      <td>71.250000</td>\n",
       "    </tr>\n",
       "    <tr>\n",
       "      <th>max</th>\n",
       "      <td>254.000000</td>\n",
       "      <td>40.000000</td>\n",
       "      <td>8.000000</td>\n",
       "      <td>89.000000</td>\n",
       "    </tr>\n",
       "  </tbody>\n",
       "</table>\n",
       "</div>"
      ],
      "text/plain": [
       "               X1         X2         X3          Y\n",
       "count   22.000000  22.000000  22.000000  22.000000\n",
       "mean    82.545455  30.318182   5.636364  56.727273\n",
       "std     76.458970   8.687081   1.865615  19.307491\n",
       "min      4.000000   8.000000   2.000000  24.000000\n",
       "25%     18.250000  23.500000   4.000000  43.500000\n",
       "50%     51.500000  32.000000   6.000000  52.000000\n",
       "75%    145.000000  38.000000   7.000000  71.250000\n",
       "max    254.000000  40.000000   8.000000  89.000000"
      ]
     },
     "execution_count": 23,
     "metadata": {},
     "output_type": "execute_result"
    }
   ],
   "source": [
    "# quelques statistiques sur les colonnes à partir du DataFrame ozone\n",
    "heart_attacks.describe()"
   ]
  },
  {
   "cell_type": "code",
   "execution_count": 26,
   "metadata": {},
   "outputs": [
    {
     "data": {
      "text/html": [
       "<div>\n",
       "<style scoped>\n",
       "    .dataframe tbody tr th:only-of-type {\n",
       "        vertical-align: middle;\n",
       "    }\n",
       "\n",
       "    .dataframe tbody tr th {\n",
       "        vertical-align: top;\n",
       "    }\n",
       "\n",
       "    .dataframe thead th {\n",
       "        text-align: right;\n",
       "    }\n",
       "</style>\n",
       "<table border=\"1\" class=\"dataframe\">\n",
       "  <thead>\n",
       "    <tr style=\"text-align: right;\">\n",
       "      <th></th>\n",
       "      <th>X1</th>\n",
       "      <th>X2</th>\n",
       "      <th>X3</th>\n",
       "      <th>Y</th>\n",
       "    </tr>\n",
       "  </thead>\n",
       "  <tbody>\n",
       "    <tr>\n",
       "      <th>X1</th>\n",
       "      <td>1.000000</td>\n",
       "      <td>0.688268</td>\n",
       "      <td>0.777954</td>\n",
       "      <td>0.518188</td>\n",
       "    </tr>\n",
       "    <tr>\n",
       "      <th>X2</th>\n",
       "      <td>0.688268</td>\n",
       "      <td>1.000000</td>\n",
       "      <td>0.830182</td>\n",
       "      <td>0.446281</td>\n",
       "    </tr>\n",
       "    <tr>\n",
       "      <th>X3</th>\n",
       "      <td>0.777954</td>\n",
       "      <td>0.830182</td>\n",
       "      <td>1.000000</td>\n",
       "      <td>0.621102</td>\n",
       "    </tr>\n",
       "    <tr>\n",
       "      <th>Y</th>\n",
       "      <td>0.518188</td>\n",
       "      <td>0.446281</td>\n",
       "      <td>0.621102</td>\n",
       "      <td>1.000000</td>\n",
       "    </tr>\n",
       "  </tbody>\n",
       "</table>\n",
       "</div>"
      ],
      "text/plain": [
       "          X1        X2        X3         Y\n",
       "X1  1.000000  0.688268  0.777954  0.518188\n",
       "X2  0.688268  1.000000  0.830182  0.446281\n",
       "X3  0.777954  0.830182  1.000000  0.621102\n",
       "Y   0.518188  0.446281  0.621102  1.000000"
      ]
     },
     "execution_count": 26,
     "metadata": {},
     "output_type": "execute_result"
    }
   ],
   "source": [
    "# calcul de la matrice de corrélation du DataFrame ozone et affichage de corrélations avec maxO3\n",
    "correlation_matrix = heart_attacks.corr()\n",
    "correlation_matrix"
   ]
  },
  {
   "cell_type": "code",
   "execution_count": 111,
   "metadata": {},
   "outputs": [
    {
     "data": {
      "text/plain": [
       "<PandasArray>\n",
       "[81, 55, 80, 24, 78, 52, 88, 45, 50, 69, 66, 45, 24, 43, 38, 72, 41, 38, 52,\n",
       " 52, 66, 89]\n",
       "Length: 22, dtype: int64"
      ]
     },
     "execution_count": 111,
     "metadata": {},
     "output_type": "execute_result"
    }
   ],
   "source": [
    "Y = heart_attacks[\"Y\"].array\n",
    "var_list = [\"X1\", \"X2\", \"X3\"]\n",
    "p = len(var_list)\n",
    "m = Y.shape[0]\n",
    "X = np.zeros((p+1, m))\n",
    "X\n",
    "Y\n",
    "#X1 = heart_attacks[\"X1\"].array\n",
    "#X2 = heart_attacks[\"X2\"].array\n",
    "#X3 = heart_attacks[\"X3\"].array\n",
    "#Ones = np.ones(Y.shape)"
   ]
  },
  {
   "cell_type": "code",
   "execution_count": null,
   "metadata": {},
   "outputs": [],
   "source": [
    "\n"
   ]
  },
  {
   "cell_type": "code",
   "execution_count": 129,
   "metadata": {},
   "outputs": [
    {
     "name": "stdout",
     "output_type": "stream",
     "text": [
      "Y = \n",
      "[81. 55. 80. 24. 78. 52. 88. 45. 50. 69. 66. 45. 24. 43. 38. 72. 41. 38.\n",
      " 52. 52. 66. 89.]\n",
      "U = \n",
      "[[124.  33.   8.]\n",
      " [ 49.  31.   6.]\n",
      " [181.  38.   8.]\n",
      " [  4.  17.   2.]\n",
      " [ 22.  20.   4.]\n",
      " [152.  39.   6.]\n",
      " [ 75.  30.   7.]\n",
      " [ 54.  29.   7.]\n",
      " [ 43.  35.   6.]\n",
      " [ 41.  31.   5.]\n",
      " [ 17.  23.   4.]\n",
      " [ 22.  21.   3.]\n",
      " [ 16.   8.   3.]\n",
      " [ 10.  23.   3.]\n",
      " [ 63.  37.   6.]\n",
      " [170.  40.   8.]\n",
      " [ 15.  38.   6.]\n",
      " [ 15.  25.   4.]\n",
      " [221.  39.   7.]\n",
      " [171.  33.   7.]\n",
      " [ 97.  38.   6.]\n",
      " [254.  39.   8.]]\n"
     ]
    }
   ],
   "source": [
    "var_list[0]\n",
    "U = np.delete(heart_attacks.values, 0, axis=1) # on retire la première colonne qui contient du texte\n",
    "U = U.astype('float') # on change le type des éléments de X en int, ils étaient auparavant de type object\n",
    "Y = copy(U[:,-1]) # on récupère la dernière colonne de U qui contient Y\n",
    "U = np.delete(U, -1, axis=1) # on retire la dernière colonne de U qui contient Y\n",
    "print(\"Y = \")\n",
    "print(Y)\n",
    "print(\"U = \")\n",
    "print(U)"
   ]
  },
  {
   "cell_type": "code",
   "execution_count": 130,
   "metadata": {},
   "outputs": [
    {
     "name": "stdout",
     "output_type": "stream",
     "text": [
      "[[  1. 124.  33.   8.]\n",
      " [  1.  49.  31.   6.]\n",
      " [  1. 181.  38.   8.]\n",
      " [  1.   4.  17.   2.]\n",
      " [  1.  22.  20.   4.]\n",
      " [  1. 152.  39.   6.]\n",
      " [  1.  75.  30.   7.]\n",
      " [  1.  54.  29.   7.]\n",
      " [  1.  43.  35.   6.]\n",
      " [  1.  41.  31.   5.]\n",
      " [  1.  17.  23.   4.]\n",
      " [  1.  22.  21.   3.]\n",
      " [  1.  16.   8.   3.]\n",
      " [  1.  10.  23.   3.]\n",
      " [  1.  63.  37.   6.]\n",
      " [  1. 170.  40.   8.]\n",
      " [  1.  15.  38.   6.]\n",
      " [  1.  15.  25.   4.]\n",
      " [  1. 221.  39.   7.]\n",
      " [  1. 171.  33.   7.]\n",
      " [  1.  97.  38.   6.]\n",
      " [  1. 254.  39.   8.]]\n"
     ]
    }
   ],
   "source": [
    "Ones = np.ones((m,1)) # une matrice de dimensions mx1 ne contenant que des 1\n",
    "X = np.concatenate((Ones, U), axis=1) # on construit X =[Ones, U] en concaténant la colonne de 1 avec U (sur l'axe des colonnes)\n",
    "print(X)"
   ]
  },
  {
   "cell_type": "code",
   "execution_count": 121,
   "metadata": {},
   "outputs": [
    {
     "data": {
      "text/plain": [
       "(22,)"
      ]
     },
     "execution_count": 121,
     "metadata": {},
     "output_type": "execute_result"
    }
   ],
   "source": []
  },
  {
   "cell_type": "code",
   "execution_count": 131,
   "metadata": {},
   "outputs": [
    {
     "data": {
      "text/plain": [
       "array([[2.20000e+01, 1.81600e+03, 6.67000e+02, 1.24000e+02],\n",
       "       [1.81600e+03, 2.72668e+05, 6.46580e+04, 1.25660e+04],\n",
       "       [6.67000e+02, 6.46580e+04, 2.18070e+04, 4.04200e+03],\n",
       "       [1.24000e+02, 1.25660e+04, 4.04200e+03, 7.72000e+02]])"
      ]
     },
     "execution_count": 131,
     "metadata": {},
     "output_type": "execute_result"
    }
   ],
   "source": [
    "V = np.dot(X.T, X)\n",
    "V"
   ]
  },
  {
   "cell_type": "code",
   "execution_count": 132,
   "metadata": {},
   "outputs": [
    {
     "data": {
      "text/plain": [
       "array([[ 8.69390295e-01,  2.24911693e-03, -2.00200902e-02,\n",
       "        -7.14321180e-02],\n",
       "       [ 2.24911693e-03,  2.09400797e-05, -2.51581727e-05,\n",
       "        -5.70381096e-04],\n",
       "       [-2.00200902e-02, -2.51581727e-05,  2.06049821e-03,\n",
       "        -7.16308936e-03],\n",
       "       [-7.14321180e-02, -5.70381096e-04, -7.16308936e-03,\n",
       "         5.95572522e-02]])"
      ]
     },
     "execution_count": 132,
     "metadata": {},
     "output_type": "execute_result"
    }
   ],
   "source": [
    "inv(V)"
   ]
  },
  {
   "cell_type": "code",
   "execution_count": 139,
   "metadata": {},
   "outputs": [
    {
     "data": {
      "text/plain": [
       "array([27.82783081,  0.02886538, -0.53058149,  7.55859716])"
      ]
     },
     "execution_count": 139,
     "metadata": {},
     "output_type": "execute_result"
    }
   ],
   "source": [
    "a = np.dot(np.dot(inv(V), X.T), Y)\n",
    "a"
   ]
  },
  {
   "cell_type": "code",
   "execution_count": 141,
   "metadata": {},
   "outputs": [
    {
     "data": {
      "text/plain": [
       "array([-6.63327403e+00,  3.14579109e+00, -6.64085480e+00,  1.00406012e+01,\n",
       "       -2.99143721e+01,  4.87427334e+00, -2.10145304e+01,  2.19098781e+01,\n",
       "        5.85027282e+00, -1.86437291e+01, -1.96504435e+01, -5.00355073e+00,\n",
       "        2.27208164e+01, -4.41109828e+00,  1.73664174e+01, -1.95369811e-02,\n",
       "        1.24502977e+01,  7.23066279e+00,  1.44245818e+01,  1.61648017e+01,\n",
       "       -1.01827411e+01, -1.40642635e+01])"
      ]
     },
     "execution_count": 141,
     "metadata": {},
     "output_type": "execute_result"
    }
   ],
   "source": [
    "np.dot(X,a)-Y"
   ]
  },
  {
   "cell_type": "code",
   "execution_count": null,
   "metadata": {},
   "outputs": [],
   "source": []
  },
  {
   "cell_type": "code",
   "execution_count": null,
   "metadata": {},
   "outputs": [],
   "source": []
  }
 ],
 "metadata": {
  "kernelspec": {
   "display_name": "Python 3",
   "language": "python",
   "name": "python3"
  },
  "language_info": {
   "codemirror_mode": {
    "name": "ipython",
    "version": 3
   },
   "file_extension": ".py",
   "mimetype": "text/x-python",
   "name": "python",
   "nbconvert_exporter": "python",
   "pygments_lexer": "ipython3",
   "version": "3.8.5"
  }
 },
 "nbformat": 4,
 "nbformat_minor": 4
}
