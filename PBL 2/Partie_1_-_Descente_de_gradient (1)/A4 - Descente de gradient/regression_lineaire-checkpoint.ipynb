{
 "cells": [
  {
   "cell_type": "markdown",
   "metadata": {},
   "source": [
    "# Régression linéaire simple"
   ]
  },
  {
   "cell_type": "markdown",
   "metadata": {},
   "source": [
    "# # test"
   ]
  },
  {
   "cell_type": "code",
   "execution_count": 15,
   "metadata": {},
   "outputs": [
    {
     "ename": "SyntaxError",
     "evalue": "EOL while scanning string literal (<ipython-input-15-a3827456cb6a>, line 82)",
     "output_type": "error",
     "traceback": [
      "\u001b[1;36m  File \u001b[1;32m\"<ipython-input-15-a3827456cb6a>\"\u001b[1;36m, line \u001b[1;32m82\u001b[0m\n\u001b[1;33m    file_path = os.path.join(datasets\", name)\u001b[0m\n\u001b[1;37m                                             ^\u001b[0m\n\u001b[1;31mSyntaxError\u001b[0m\u001b[1;31m:\u001b[0m EOL while scanning string literal\n"
     ]
    }
   ],
   "source": [
    "import math \n",
    "import numpy as np\n",
    "import matplotlib.pyplot as plt\n",
    "from matplotlib import cm\n",
    "from mpl_toolkits.mplot3d import Axes3D\n",
    "from pylab import *\n",
    "import pandas as pd\n",
    "import os\n",
    "\n",
    "# norm of a vector U in R^n\n",
    "def norm(U):\n",
    "    n = len(U)\n",
    "    res = 0.0\n",
    "    for i in range(n):\n",
    "        res = res + U[i]**2\n",
    "    return sqrt(res)\n",
    "\n",
    "# Algorithm looking for the minimum of a function f of n variables with gradient descent\n",
    "def GradientDescentMulti(f, gradf, X, alpha=1e-2, eps=1e-6, maxIter=1000):\n",
    "    # gradf : gradient of f\n",
    "    # X : initial vector values choosen by the user\n",
    "    # alpha : learning rate (give the speed of the descent)\n",
    "    # eps : precision\n",
    "    # maxIter : maximum number of iterations\n",
    "    N = norm(gradf(X))\n",
    "    i=0\n",
    "    while N>eps:\n",
    "        X = X - alpha*gradf(X)\n",
    "        N = norm(gradf(X))\n",
    "        if i > maxIter:\n",
    "            print(\"Failure of gradient descent after\", maxIter, \"iterations\")\n",
    "            return None\n",
    "        i += 1\n",
    "    return X\n",
    "\n",
    "# Algorithm computing an approximation of the gradient of f\n",
    "def MultiGradient(f, X, eps=1e-6):\n",
    "    n = len(X)\n",
    "    Grad = np.zeros(n)\n",
    "    for i in range(n):\n",
    "        Eps = np.zeros(n)\n",
    "        Eps[i] = eps\n",
    "        Grad[i] = ( f(X+Eps) - f(X-Eps) ) / (2*eps)\n",
    "    return Grad\n",
    "\n",
    "# Algorithm looking for the minimum of a function f of n variables with gradient descent, gradient unknown\n",
    "def GradientDescentMulti2(f, X, alpha=1e-2, eps=1e-6, maxIter=1000):\n",
    "    # X : initial vector values choosen by the user\n",
    "    # alpha : learning rate (give the speed of the descent)\n",
    "    # eps : precision\n",
    "    # maxIter : maximum number of iterations\n",
    "    # disp : parameter to display steps of computations\n",
    "    N = 2*eps # just to start the loop\n",
    "    i=0\n",
    "    while N>eps:\n",
    "        gradf = MultiGradient(f, X, eps)\n",
    "        N = norm(gradf)\n",
    "        X= X - alpha*gradf\n",
    "        if i > maxIter:\n",
    "            print(\"Failure of gradient descent after\", maxIter, \"iterations\")\n",
    "            return None\n",
    "        i += 1\n",
    "    return X\n",
    "\n",
    "def twoVarLinearRegression(A, X, Y):\n",
    "    m = len(X)\n",
    "    res = 0.0\n",
    "    for i in range(m):\n",
    "        res = res + (A[0]*X[i] + A[1] - Y[i])**2\n",
    "    return res/m\n",
    "\n",
    "def grad_twoVarLinearRegression(A, X, Y):\n",
    "    m = len(X)\n",
    "    grad = np.array([0.0, 0.0])\n",
    "    for i in range(m):\n",
    "        tmp = A[0]*X[i] + A[1] - Y[i]\n",
    "        grad[0] = grad[0] + X[i]*tmp\n",
    "        grad[1] = grad[1] + tmp\n",
    "    return 2.0/m * grad\n",
    "\n",
    "def load_data(name):\n",
    "    file_path = os.path.join(\"datasets\", name)\n",
    "    print(file_path)\n",
    "    return #pd.read_csv(file_path)\n",
    "                             \n",
    "HOUSING_PATH = os.path.join(\"datasets\", \"housing\")\n",
    "HOUSING_URL = DOWNLOAD_ROOT + \"housing.tgz\"\n",
    "\n",
    "def fetch_housing_data(housing_url=HOUSING_URL, housing_path=HOUSING_PATH):\n",
    "    if not os.path.isdir(housing_path):\n",
    "        os.makedirs(housing_path)\n",
    "    tgz_path = os.path.join(housing_path, \"housing.tgz\") #SOLUTION\n",
    "    print(tgz_path)\n",
    "                             "
   ]
  },
  {
   "cell_type": "raw",
   "metadata": {},
   "source": [
    "Phase de testing"
   ]
  },
  {
   "cell_type": "code",
   "execution_count": 14,
   "metadata": {},
   "outputs": [
    {
     "name": "stdout",
     "output_type": "stream",
     "text": [
      ".\\datasets\\housing.csv\n"
     ]
    }
   ],
   "source": [
    "ozone = load_data(\"housing.csv\")"
   ]
  },
  {
   "cell_type": "code",
   "execution_count": null,
   "metadata": {},
   "outputs": [],
   "source": []
  },
  {
   "cell_type": "code",
   "execution_count": null,
   "metadata": {},
   "outputs": [],
   "source": []
  }
 ],
 "metadata": {
  "kernelspec": {
   "display_name": "Python 3",
   "language": "python",
   "name": "python3"
  },
  "language_info": {
   "codemirror_mode": {
    "name": "ipython",
    "version": 3
   },
   "file_extension": ".py",
   "mimetype": "text/x-python",
   "name": "python",
   "nbconvert_exporter": "python",
   "pygments_lexer": "ipython3",
   "version": "3.8.5"
  }
 },
 "nbformat": 4,
 "nbformat_minor": 4
}
